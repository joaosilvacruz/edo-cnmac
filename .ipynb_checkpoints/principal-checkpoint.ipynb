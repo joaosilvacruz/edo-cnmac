{
 "cells": [
  {
   "cell_type": "code",
   "execution_count": null,
   "id": "046a8f61",
   "metadata": {},
   "outputs": [],
   "source": [
    "import numpy as np\n",
    "import time\n",
    "import laplace_otimizada as lo\n",
    "import laplace_normal as ln"
   ]
  },
  {
   "cell_type": "code",
   "execution_count": null,
   "id": "5c78b240",
   "metadata": {},
   "outputs": [],
   "source": [
    "#Tempo laplace normal\n",
    "t_normal = ln.laplace_normal()"
   ]
  },
  {
   "cell_type": "code",
   "execution_count": null,
   "id": "239dc040",
   "metadata": {},
   "outputs": [],
   "source": [
    "#Tempo laplace otimizada\n",
    "t_otim = lo.laplace_otimizada(0.94)"
   ]
  },
  {
   "cell_type": "code",
   "execution_count": null,
   "id": "16223e72",
   "metadata": {},
   "outputs": [],
   "source": [
    "#Criando uma lista para os valores de omega\n",
    "omega = []\n",
    "i = 0.1\n",
    "while i <= 1:  \n",
    "    omega.append(np.round(i, 2))\n",
    "    i+=0.01"
   ]
  },
  {
   "cell_type": "code",
   "execution_count": null,
   "id": "1e65dab4",
   "metadata": {},
   "outputs": [],
   "source": [
    "#Gerando a lista te tempos para o laplace_otimizada\n",
    "list_t_otim = []\n",
    "for i in range(0, len(omega)):\n",
    "    tempo = lo.laplace_otimizada(omega[i])\n",
    "    list_t_otim.append(tempo)"
   ]
  },
  {
   "cell_type": "code",
   "execution_count": null,
   "id": "1e2d74c1",
   "metadata": {},
   "outputs": [],
   "source": [
    "#Criando o arquivo csv \n",
    "import csv\n",
    "n = len(omega)\n",
    "with open('./result_laplace1.csv', 'w') as file:\n",
    "    file.write(f'omega,t_otim,t_normal,delta_t\\n')\n",
    "    for i in range (n):\n",
    "        file.write(f'{omega[i]},{list_t_otim[i]},{t_normal},{abs(list_t_otim[i]- t_normal)}\\n')"
   ]
  }
 ],
 "metadata": {
  "kernelspec": {
   "display_name": "Python 3 (ipykernel)",
   "language": "python",
   "name": "python3"
  },
  "language_info": {
   "codemirror_mode": {
    "name": "ipython",
    "version": 3
   },
   "file_extension": ".py",
   "mimetype": "text/x-python",
   "name": "python",
   "nbconvert_exporter": "python",
   "pygments_lexer": "ipython3",
   "version": "3.11.1"
  }
 },
 "nbformat": 4,
 "nbformat_minor": 5
}
