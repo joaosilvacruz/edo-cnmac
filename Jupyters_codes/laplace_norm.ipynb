{
 "cells": [
  {
   "cell_type": "code",
   "execution_count": null,
   "id": "5c127a7e",
   "metadata": {},
   "outputs": [],
   "source": [
    "# Solução da equação de Laplace, método das difrenaças finitas não otimizado\n",
    "import numpy as np\n",
    "import time\n",
    "\n",
    "\n",
    "def laplace_normal():\n",
    "    inicio = time.time()\n",
    "    # Tamanho do Grid\n",
    "    N = 100\n",
    "    # Condições de contorno\n",
    "    T_sup = 100\n",
    "    erro = 1e-6\n",
    "\n",
    "    # Criar os arrays para guardar o valor da temperatura\n",
    "    Temp = np.zeros([N+1, N+1], float)\n",
    "    Temp[0, :] = T_sup\n",
    "    T_grid = np.empty([N+1, N+1], float)\n",
    "    delta = 1.0\n",
    "\n",
    "    while delta > erro:\n",
    "        for i in range(N+1):\n",
    "            for j in range(N+1):\n",
    "                if i == 0 or i == N or j == 0 or j == N:\n",
    "                    T_grid[i, j] = Temp[i, j]  # Aplicando as condições\n",
    "                else:\n",
    "                    T_grid[i, j] = (1/4)*(Temp[i+1, j]+Temp[i-1, j]+(Temp[i, j+1]+Temp[i, j-1]))\n",
    "\n",
    "        # Método da relaxação\n",
    "        delta = np.max(abs(Temp - T_grid))  # novo valor do delta\n",
    "        Temp, T_grid = T_grid, Temp  # atualização da temperatura\n",
    "\n",
    "    fim = time.time()\n",
    "    return fim - inicio"
   ]
  }
 ],
 "metadata": {
  "kernelspec": {
   "display_name": "Python 3 (ipykernel)",
   "language": "python",
   "name": "python3"
  },
  "language_info": {
   "codemirror_mode": {
    "name": "ipython",
    "version": 3
   },
   "file_extension": ".py",
   "mimetype": "text/x-python",
   "name": "python",
   "nbconvert_exporter": "python",
   "pygments_lexer": "ipython3",
   "version": "3.11.1"
  }
 },
 "nbformat": 4,
 "nbformat_minor": 5
}
