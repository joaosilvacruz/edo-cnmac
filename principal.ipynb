{
 "cells": [
  {
   "cell_type": "code",
   "execution_count": 10,
   "id": "046a8f61",
   "metadata": {},
   "outputs": [],
   "source": [
    "import numpy as np\n",
    "import time\n",
    "import laplace_otimizada as lo\n",
    "import laplace_normal as ln"
   ]
  },
  {
   "cell_type": "code",
   "execution_count": 4,
   "id": "e47ce9b5",
   "metadata": {},
   "outputs": [],
   "source": [
    "#Tempo laplace normal\n",
    "t_normal = ln.laplace_normal(0.94)"
   ]
  },
  {
   "cell_type": "code",
   "execution_count": 11,
   "id": "fb5c1211",
   "metadata": {},
   "outputs": [],
   "source": [
    "#Tempo laplace otimizada\n",
    "t_otim = lo.laplace_otimizada(0.94)"
   ]
  },
  {
   "cell_type": "code",
   "execution_count": 13,
   "id": "7e15408c",
   "metadata": {},
   "outputs": [],
   "source": [
    "#Criando uma lista para os valores de omega\n",
    "valores = np.linspace(0.1, 1.0, 100).tolist()\n",
    "omega = []\n",
    "for i in valores:\n",
    "    omega.append(np.round(i, 2))"
   ]
  },
  {
   "cell_type": "code",
   "execution_count": null,
   "id": "a73cce55",
   "metadata": {},
   "outputs": [],
   "source": [
    "#Gerando a lista te tempos para o laplace_otimizada\n",
    "list_t_otim = []\n",
    "for i in range(0, len(omega) - 1):\n",
    "    tempo = lo.laplace_otimizada(omega[i])\n",
    "    list_t_otim.append(tempo)\n"
   ]
  },
  {
   "cell_type": "code",
   "execution_count": null,
   "id": "71ae884b",
   "metadata": {},
   "outputs": [],
   "source": [
    "#Criando o arquivo csv \n",
    "import csv\n",
    "n = len(omega)\n",
    "with open('./teste5.csv', 'w') as file:\n",
    "    file.write(f'tentativa,omega,t_acelerado,t_normal,delta_t\\n')\n",
    "    for i in range (n):\n",
    "        file.write(f'{i},{omega[i]},{list_t_otim[i]},{t_normal},{abs(list_t_otim[i]- t_normal)}\\n')"
   ]
  }
 ],
 "metadata": {
  "kernelspec": {
   "display_name": "Python 3",
   "language": "python",
   "name": "python3"
  },
  "language_info": {
   "codemirror_mode": {
    "name": "ipython",
    "version": 3
   },
   "file_extension": ".py",
   "mimetype": "text/x-python",
   "name": "python",
   "nbconvert_exporter": "python",
   "pygments_lexer": "ipython3",
   "version": "3.11.1"
  },
  "vscode": {
   "interpreter": {
    "hash": "6c25e0fa234b1db66c8604680e13cb4013e20476d635fd9fffa64095b6c0930b"
   }
  }
 },
 "nbformat": 4,
 "nbformat_minor": 5
}
